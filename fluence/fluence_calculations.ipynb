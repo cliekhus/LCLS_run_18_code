{
 "cells": [
  {
   "cell_type": "markdown",
   "metadata": {},
   "source": [
    "The purpose of this code is to determine the necessary fluence of our x-rays, molarity of our sample, and thickness of our jet.\n",
    "We have the following constraints:\n",
    "The first pulse should excite 10% of the molecules.  The second pulse should have high enough fluence and the molarity should be high enough with small enough thickness to get sufficient signal to noise."
   ]
  },
  {
   "cell_type": "code",
   "execution_count": 1,
   "metadata": {},
   "outputs": [],
   "source": [
    "import numpy as np"
   ]
  },
  {
   "cell_type": "markdown",
   "metadata": {},
   "source": [
    "We start by using some known constants:"
   ]
  },
  {
   "cell_type": "code",
   "execution_count": 2,
   "metadata": {},
   "outputs": [],
   "source": [
    "FE_ABS_CS_1 = 398.3 # cm^2/g\n",
    "FE_ABS_CS_2 = 51.08 # cm^2/g 408.1 at edge\n",
    "H2O_AW = 18 # g/mol\n",
    "FE_AW = 55.845 # g/mol\n",
    "NA = 6.022e23 # mol^-1\n",
    "EV_TO_JOULES = 1.6e-19"
   ]
  },
  {
   "cell_type": "markdown",
   "metadata": {},
   "source": [
    "Flow constants:"
   ]
  },
  {
   "cell_type": "code",
   "execution_count": 3,
   "metadata": {},
   "outputs": [],
   "source": [
    "WATER_VISCOSITY = 8.90e-4 # Pa*s N*s/m^2 @ 25C Note @ 20C 1.0016E-3, @ 30C 7.9722E-4\n",
    "SURFACE_TENSION = 0.07197 # N/m @ 25 C\n",
    "WATER_DENSITY = 997.0 # kg/m^3 @ 25 C\n",
    "WE_J = 0.8 # Weber number for jetting > 0.8"
   ]
  },
  {
   "cell_type": "markdown",
   "metadata": {},
   "source": [
    "Some constants from the experiment:"
   ]
  },
  {
   "cell_type": "code",
   "execution_count": 4,
   "metadata": {},
   "outputs": [],
   "source": [
    "SPOT_DIAMETER = 120 # nm\n",
    "PHOTON_1 = 7186 # eV\n",
    "PHOTON_2 = 7110 # eV\n",
    "E_BW = 15 # eV\n",
    "E_RES = 0.2 # eV\n",
    "PULSE_DURATION = 10 # fs\n",
    "TUBE_RADIUS = 125e-6 / 2.0 # m\n",
    "NBINS = 50 # number of energy bins on spectrometer\n",
    "MAX_NUM_PHOTONS = 1e8\n",
    "MAX_NUM_PHOTONS_PIXEL = 11000"
   ]
  },
  {
   "cell_type": "markdown",
   "metadata": {},
   "source": [
    "Get water cross section <br>\n",
    "ref: https://physics.nist.gov/PhysRefData/XrayMassCoef/ComTab/water.html"
   ]
  },
  {
   "cell_type": "code",
   "execution_count": 5,
   "metadata": {},
   "outputs": [
    {
     "name": "stdout",
     "output_type": "stream",
     "text": [
      "H2O crossection 16.72015 cm^2/g\n"
     ]
    }
   ],
   "source": [
    "f = np.loadtxt('Water_abs.txt')\n",
    "H2O_ABS = max(np.interp(PHOTON_1/1e6, f[:,0], f[:,1]), np.interp(PHOTON_2/1e6, f[:,0], f[:,1]))\n",
    "print('H2O crossection ' + str(H2O_ABS) + ' cm^2/g')"
   ]
  },
  {
   "cell_type": "markdown",
   "metadata": {},
   "source": [
    "Some parameters to control:"
   ]
  },
  {
   "cell_type": "code",
   "execution_count": 6,
   "metadata": {},
   "outputs": [],
   "source": [
    "jet_thickness = 100 # um, between 5 um and 50 um\n",
    "molar_con = 500 # mM (mol/m^3) (mmol/L) can be up to 100 mM\n",
    "pulse_energy_1 = .5 # uJ\n",
    "pulse_energy_2 = .5 # uJ\n",
    "loss_rate = 1"
   ]
  },
  {
   "cell_type": "markdown",
   "metadata": {},
   "source": [
    "Now start doing some calculations:"
   ]
  },
  {
   "cell_type": "code",
   "execution_count": 7,
   "metadata": {},
   "outputs": [],
   "source": [
    "import math\n",
    "focal_area = math.pi * (SPOT_DIAMETER*1e-7 / 2)**2 # cm^2\n",
    "focal_volume = jet_thickness*1e-4 * focal_area # cm^3\n",
    "\n",
    "n_iron = NA * molar_con * focal_volume*1e-6\n",
    "mass_iron = FE_AW / NA # g\n",
    "\n",
    "n_water = NA * WATER_DENSITY*1000/H2O_AW * focal_volume*1e-6\n",
    "mass_water = H2O_AW / NA # g\n",
    "\n",
    "n_photons_1 = pulse_energy_1*1e-6 / EV_TO_JOULES / PHOTON_1\n",
    "n_photons_2 = pulse_energy_2*1e-6 / EV_TO_JOULES / PHOTON_2"
   ]
  },
  {
   "cell_type": "markdown",
   "metadata": {},
   "source": [
    "Find the excitation fraction of the iron atoms from the first pulse:"
   ]
  },
  {
   "cell_type": "code",
   "execution_count": 8,
   "metadata": {},
   "outputs": [
    {
     "name": "stdout",
     "output_type": "stream",
     "text": [
      "The excitation fraction of FeRu from the first pulse is: 14.20%\n",
      "The number of photons absorbed by FeRu in the first pulse is: 4.8E+07\n",
      "\n",
      "The excitation fraction of water from the first pulse is: 0.19%\n",
      "The number of photons absorbed by water in the first pulse is: 7.2E+07\n"
     ]
    }
   ],
   "source": [
    "excite_fraction_1 = n_photons_1 * FE_ABS_CS_1 * mass_iron / focal_area\n",
    "print('The excitation fraction of FeRu from the first pulse is: {:.2f}%'.format(excite_fraction_1*100))\n",
    "n_photons_abs_1 = excite_fraction_1 * n_iron\n",
    "print('The number of photons absorbed by FeRu in the first pulse is: {:.1E}'.format(n_photons_abs_1))\n",
    "print()\n",
    "H2O_excite_fraction_1 = n_photons_1 * H2O_ABS * mass_water / focal_area\n",
    "print('The excitation fraction of water from the first pulse is: {:.2f}%'.format(H2O_excite_fraction_1*100))\n",
    "H2O_n_photons_abs_1 = H2O_excite_fraction_1 * n_water\n",
    "print('The number of photons absorbed by water in the first pulse is: {:.1E}'.format(H2O_n_photons_abs_1))"
   ]
  },
  {
   "cell_type": "markdown",
   "metadata": {},
   "source": [
    "Find the excitation fraction of the iron atoms from the second pulse:"
   ]
  },
  {
   "cell_type": "code",
   "execution_count": 9,
   "metadata": {},
   "outputs": [
    {
     "name": "stdout",
     "output_type": "stream",
     "text": [
      "The absorption rate of the second pulse from FeRu is 1.84%\n",
      "The number of photons absorbed by FeRu in the first pulse is: 6.3E+06\n",
      "The photon absorption fraction of the second pulse is: 1.4E+00%\n",
      "\n",
      "The absorption rate of the second pulse from water is 0.19%\n",
      "The number of photons absorbed by water in the first pulse is: 7.3E+07\n"
     ]
    }
   ],
   "source": [
    "excite_fraction_2 = n_photons_2 * FE_ABS_CS_2 * mass_iron / focal_area\n",
    "n_photons_abs_2 = excite_fraction_2 * n_iron\n",
    "print('The absorption rate of the second pulse from FeRu is {:.2f}%'.format(excite_fraction_2*100))\n",
    "n_photons_abs_2 = excite_fraction_2 * n_iron\n",
    "print('The number of photons absorbed by FeRu in the first pulse is: {:.1E}'.format(n_photons_abs_2))\n",
    "abs_fraction_2 = n_photons_abs_2 / n_photons_2\n",
    "print('The photon absorption fraction of the second pulse is: {:.1E}%'.format(abs_fraction_2*100))\n",
    "print()\n",
    "H2O_excite_fraction_2 = n_photons_2 * H2O_ABS * mass_water / focal_area\n",
    "print('The absorption rate of the second pulse from water is {:.2f}%'.format(H2O_excite_fraction_2*100))\n",
    "H2O_n_photons_abs_2 = H2O_excite_fraction_2 * n_water\n",
    "print('The number of photons absorbed by water in the first pulse is: {:.1E}'.format(H2O_n_photons_abs_2))"
   ]
  },
  {
   "cell_type": "markdown",
   "metadata": {},
   "source": [
    "In each energy bin, we expect to see changes of about 20% at our signals.\n",
    "Let's err on the side of caution and expect a change of 2% out of the excitation rate of our molecules.\n",
    "Compare this to the necessary number of photons in each bin to see this change in the signal."
   ]
  },
  {
   "cell_type": "code",
   "execution_count": 10,
   "metadata": {},
   "outputs": [
    {
     "name": "stdout",
     "output_type": "stream",
     "text": [
      "1000000.0\n",
      "We will need to average for 8.5 minutes\n",
      "We will use a fluence of 4.4E+17 W/cm^2 for the first pulse and 4.4E+17 W/cm^2 for the second pulse\n"
     ]
    }
   ],
   "source": [
    "nec_n_photons_bin = 1 / (excite_fraction_1 * abs_fraction_2 * 0.002)**2\n",
    "n_photons_2 = min(n_photons_2, MAX_NUM_PHOTONS / 2)\n",
    "photons_bin = n_photons_2 / NBINS\n",
    "print(photons_bin)\n",
    "averaging_time = nec_n_photons_bin / photons_bin / 120 / 60 # minutes\n",
    "print('We will need to average for {:.1F} minutes'.format(averaging_time))\n",
    "\n",
    "fluence_1 = pulse_energy_1*1e-6 / focal_area / (PULSE_DURATION*1e-15) # W/cm^2\n",
    "fluence_2 = pulse_energy_2*1e-6 / focal_area / (PULSE_DURATION*1e-15) # W/cm^2\n",
    "print('We will use a fluence of {:.1E} W/cm^2 for the first pulse and {:.1E} W/cm^2 for the second pulse'.format(fluence_1, fluence_2))"
   ]
  },
  {
   "cell_type": "markdown",
   "metadata": {},
   "source": [
    "Calculate the flow and necessary volume."
   ]
  },
  {
   "cell_type": "code",
   "execution_count": 11,
   "metadata": {},
   "outputs": [
    {
     "name": "stdout",
     "output_type": "stream",
     "text": [
      "0.70777352729183\n",
      "We will need at least 2.0 liters of solution and 56917 milligrams of solute for four shifts\n"
     ]
    }
   ],
   "source": [
    "jet_flow = math.sqrt((WE_J * (math.pi**2) * (TUBE_RADIUS**3) * SURFACE_TENSION) / WATER_DENSITY) *1e6*60 # mL/minute\n",
    "nec_volume = jet_flow * loss_rate *60*12*4*1e-3 # L\n",
    "nec_mass = molar_con * nec_volume * FE_AW # mg\n",
    "print(jet_flow)\n",
    "print('We will need at least {:.1F} liters of solution and {:.0F} milligrams of solute for four shifts'.format(nec_volume, nec_mass))"
   ]
  },
  {
   "cell_type": "markdown",
   "metadata": {},
   "source": [
    "Assuming a 4 fs pulse, double core hole has a small probability under 10^16 W cm^-2 intensity for CO at 350 eV\n",
    "Scale this by the Iron cross section"
   ]
  },
  {
   "cell_type": "code",
   "execution_count": 12,
   "metadata": {},
   "outputs": [
    {
     "name": "stdout",
     "output_type": "stream",
     "text": [
      "Scaled intensity for a 4 fs pulse: 6E+18 W/cm^2\n"
     ]
    }
   ],
   "source": [
    "intensity_4fs = 2e16 # W/cm^2\n",
    "carbon_CS = 3.2e4 #cm^2/g\n",
    "carbon_AW = 12 #g/mol\n",
    "scaled_4fs_intensity = intensity_4fs * (carbon_CS / FE_ABS_CS_1 * carbon_AW / FE_AW)**2\n",
    "print('Scaled intensity for a 4 fs pulse: {:.0E} W/cm^2'.format(scaled_4fs_intensity))"
   ]
  },
  {
   "cell_type": "markdown",
   "metadata": {},
   "source": [
    "Assuming a 80 fs pulse, double core hole has a small probability under 10^14 W cm^-2 intensity for CO at 350 eV"
   ]
  },
  {
   "cell_type": "code",
   "execution_count": 13,
   "metadata": {},
   "outputs": [
    {
     "name": "stdout",
     "output_type": "stream",
     "text": [
      "Scaled intensity for a 80 fs pulse: 1E+17 W/cm^2\n"
     ]
    }
   ],
   "source": [
    "intensity_80fs = 5e14 # W/cm^2\n",
    "scaled_80fs_intensity = intensity_80fs * (carbon_CS / FE_ABS_CS_1 * carbon_AW / FE_AW)**2\n",
    "print('Scaled intensity for a 80 fs pulse: {:.0E} W/cm^2'.format(scaled_80fs_intensity))"
   ]
  },
  {
   "cell_type": "code",
   "execution_count": null,
   "metadata": {},
   "outputs": [],
   "source": []
  }
 ],
 "metadata": {
  "kernelspec": {
   "display_name": "Python 3",
   "language": "python",
   "name": "python3"
  },
  "language_info": {
   "codemirror_mode": {
    "name": "ipython",
    "version": 3
   },
   "file_extension": ".py",
   "mimetype": "text/x-python",
   "name": "python",
   "nbconvert_exporter": "python",
   "pygments_lexer": "ipython3",
   "version": "3.7.3"
  }
 },
 "nbformat": 4,
 "nbformat_minor": 2
}
