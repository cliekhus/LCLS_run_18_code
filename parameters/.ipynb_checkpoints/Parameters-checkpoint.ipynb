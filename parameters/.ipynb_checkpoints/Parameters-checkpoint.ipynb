{
 "cells": [
  {
   "cell_type": "markdown",
   "metadata": {},
   "source": [
    "# Determination of Experimental Parameters"
   ]
  },
  {
   "cell_type": "code",
   "execution_count": 1,
   "metadata": {},
   "outputs": [],
   "source": [
    "EV_TO_JOULES = 1.6e-19\n",
    "Fe_AW = 55.85 #g/mol\n",
    "NA = 6.022e23 # mol^-1"
   ]
  },
  {
   "cell_type": "markdown",
   "metadata": {},
   "source": [
    "## Extract some absorption rates from CXRO"
   ]
  },
  {
   "cell_type": "markdown",
   "metadata": {},
   "source": [
    "We begin by considering FeCN6.\n",
    "To get started, some data is extracted from the CXRO website to get the absorption.\n",
    "Inputs in this section are:\n",
    "\n",
    "**1) Molar concentration**\n",
    "\n",
    "**2) The jet thickness**"
   ]
  },
  {
   "cell_type": "code",
   "execution_count": 2,
   "metadata": {},
   "outputs": [],
   "source": [
    "from access_CXRO import get_spectrum\n",
    "from CXRO_input import make_CXRO_input\n",
    "\n",
    "molar_con = 500 #mM\n",
    "jet_thickness = 100 #um\n",
    "\n",
    "bg_formula, bg_density, Fe_formula, Fe_density = make_CXRO_input(molar_con, True) #g/cm^3\n",
    "\n",
    "bg_info, bg_energy, bg_spectrum = get_spectrum(bg_formula, bg_density, jet_thickness, 7100, 7190, 500)\n",
    "Fe_info, Fe_energy, Fe_spectrum = get_spectrum(Fe_formula, Fe_density, jet_thickness, 7100, 7190, 500)"
   ]
  },
  {
   "cell_type": "code",
   "execution_count": 3,
   "metadata": {},
   "outputs": [],
   "source": [
    "import matplotlib.pyplot as plt"
   ]
  },
  {
   "cell_type": "code",
   "execution_count": 4,
   "metadata": {},
   "outputs": [
    {
     "data": {
      "text/plain": [
       "<matplotlib.legend.Legend at 0x271fc0dd588>"
      ]
     },
     "execution_count": 4,
     "metadata": {},
     "output_type": "execute_result"
    },
    {
     "data": {
      "image/png": "[encoded data removed]",
      "text/plain": [
       "<Figure size 432x288 with 1 Axes>"
      ]
     },
     "metadata": {
      "needs_background": "light"
     },
     "output_type": "display_data"
    },
    {
     "data": {
      "image/png": "[encoded data removed]",
      "text/plain": [
       "<Figure size 432x288 with 1 Axes>"
      ]
     },
     "metadata": {
      "needs_background": "light"
     },
     "output_type": "display_data"
    }
   ],
   "source": [
    "plt.figure()\n",
    "plt.plot(bg_energy, bg_spectrum, label = 'H2O, C, N background')\n",
    "plt.plot(Fe_energy, Fe_spectrum, label = 'Fe edge')\n",
    "plt.xlabel('incident energy')\n",
    "plt.ylabel('transmission')\n",
    "plt.legend()\n",
    "\n",
    "plt.figure()\n",
    "plt.plot(bg_energy, [x*y for x,y in zip(bg_spectrum, Fe_spectrum)], label = 'total', color = 'g')\n",
    "plt.xlabel('incident energy')\n",
    "plt.ylabel('transmission')\n",
    "plt.legend()"
   ]
  },
  {
   "cell_type": "markdown",
   "metadata": {},
   "source": [
    "## Pump Pulse Parameters"
   ]
  },
  {
   "cell_type": "markdown",
   "metadata": {},
   "source": [
    "Now work to determine an appropriate pump pulse parameters.  A 10% excitation rate is desired to avoid non-linear effects.  Take the Fe absorption from the previous section at the appropriate photon energy and calculate the absorption rate from this.  Inputs for this section are:\n",
    "\n",
    "**1) Photon energy**\n",
    "\n",
    "**2) Pulse energy**\n",
    "\n",
    "**3) Spot diameter**\n",
    "\n",
    "**4) Pulse duration**\n",
    "\n",
    "Assume that every photon is absorbed by one Fe atom, so the excitation rate is the number of photon absorbed divided by the number of Fe atoms in the focus."
   ]
  },
  {
   "cell_type": "code",
   "execution_count": 5,
   "metadata": {},
   "outputs": [
    {
     "name": "stdout",
     "output_type": "stream",
     "text": [
      "The excitation rate is: 0.107\n",
      "The corresponding pump fluence is: 3.5e+17 W/cm^2\n"
     ]
    }
   ],
   "source": [
    "from scipy.interpolate import interp1d\n",
    "\n",
    "pump_eV = 7188 #eV\n",
    "pump_energy = 0.4 #uJ\n",
    "spot_diameter = 120 #nm\n",
    "pulse_duration = 10 #fs\n",
    "\n",
    "f = interp1d(Fe_energy, Fe_spectrum, kind='linear')\n",
    "pump_abs = 1-f(pump_eV)\n",
    "\n",
    "N_pump_photons = pump_energy*1e-6 / EV_TO_JOULES / pump_eV\n",
    "\n",
    "import math\n",
    "focal_area = math.pi * (spot_diameter*1e-7 / 2)**2 # cm^2\n",
    "focal_volume = jet_thickness*1e-4 * focal_area # cm^3\n",
    "N_Fe_atoms_in_focus = Fe_density * NA / Fe_AW * focal_volume\n",
    "\n",
    "excitation_rate = N_pump_photons * pump_abs / N_Fe_atoms_in_focus\n",
    "\n",
    "print(\"The excitation rate is: {:.3f}\".format(excitation_rate))\n",
    "\n",
    "pump_fluence = pump_energy*1e-6 / focal_area / (pulse_duration*1e-15)\n",
    "\n",
    "print(\"The corresponding pump fluence is: {:.1e} W/cm^2\".format(pump_fluence))\n"
   ]
  },
  {
   "cell_type": "markdown",
   "metadata": {},
   "source": [
    "We use the following paper to make sure that the fluence is not too high to cause a double core hole:\n",
    "\n",
    "https://arxiv.org/abs/2004.11641"
   ]
  },
  {
   "cell_type": "markdown",
   "metadata": {},
   "source": [
    "Assuming a 4 fs pulse, double core hole has a small probability under 10^16 W cm^-2 intensity for CO at 350 eV\n",
    "Scale this by the Iron cross section"
   ]
  },
  {
   "cell_type": "code",
   "execution_count": 6,
   "metadata": {},
   "outputs": [
    {
     "name": "stdout",
     "output_type": "stream",
     "text": [
      "Scaled intensity for a 4 fs pulse: 6E+18 W/cm^2\n"
     ]
    }
   ],
   "source": [
    "intensity_4fs = 2e16 # W/cm^2\n",
    "carbon_CS = 3.2e4 #cm^2/g\n",
    "carbon_AW = 12 #g/mol\n",
    "Fe_CS = 398.3 # cm^2/g\n",
    "scaled_4fs_intensity = intensity_4fs * (carbon_CS / Fe_CS * carbon_AW / Fe_AW)**2\n",
    "print('Scaled intensity for a 4 fs pulse: {:.0E} W/cm^2'.format(scaled_4fs_intensity))"
   ]
  },
  {
   "cell_type": "markdown",
   "metadata": {},
   "source": [
    "Assuming a 80 fs pulse, double core hole has a small probability under 10^14 W cm^-2 intensity for CO at 350 eV"
   ]
  },
  {
   "cell_type": "code",
   "execution_count": 7,
   "metadata": {},
   "outputs": [
    {
     "name": "stdout",
     "output_type": "stream",
     "text": [
      "Scaled intensity for a 80 fs pulse: 1E+17 W/cm^2\n"
     ]
    }
   ],
   "source": [
    "intensity_80fs = 5e14 # W/cm^2\n",
    "scaled_80fs_intensity = intensity_80fs * (carbon_CS / Fe_CS * carbon_AW / Fe_AW)**2\n",
    "print('Scaled intensity for a 80 fs pulse: {:.0E} W/cm^2'.format(scaled_80fs_intensity))"
   ]
  },
  {
   "cell_type": "markdown",
   "metadata": {},
   "source": [
    "So the pump fluence is small enough to avoid double core holes."
   ]
  },
  {
   "cell_type": "markdown",
   "metadata": {},
   "source": [
    "## Probe Pulse Parameters"
   ]
  },
  {
   "cell_type": "markdown",
   "metadata": {},
   "source": [
    "### Estimate the signal"
   ]
  },
  {
   "cell_type": "markdown",
   "metadata": {},
   "source": [
    "Now work to determine the necessary probe pulse parameters to have a reasonable averaging time.  Take the Fe absorption from the first section and create an anticipated signal.  From this we can extract a signal size and from photon counting estimate an averaging time for different signals.  See https://www.overleaf.com/read/zfrxymtnzkqr for more detail on the calculations necessary for creating the anticipated signal.  We will consider the 3p6 t2g4 state as our signal here.  Inputs for this section are:\n",
    "\n",
    "**1) Min and Max photon energy**\n",
    "\n",
    "**2) Proportion of photons going to upstream spectrometer**\n",
    "\n",
    "**3) The maximum number of photons per pixel on the detector**\n",
    "\n",
    "**4) Downstream crystal type**\n",
    "\n",
    "**5) A peak bandwidth (known to be ~1.5 eV)**\n"
   ]
  },
  {
   "cell_type": "markdown",
   "metadata": {},
   "source": [
    "### Summary of create_signal"
   ]
  },
  {
   "cell_type": "markdown",
   "metadata": {},
   "source": [
    "We make a simplification when assembling our signal.  Technically we should use:\n",
    "\n",
    "T_total = T_1 * T_2, \n",
    "\n",
    "1-A_total = (1-A_1) * (1-A_2),\n",
    "\n",
    "A_total = A_1 + A_2 - A_1*A_2\n",
    "\n",
    "But given the small size of our signal, we will approximate\n",
    "\n",
    "A_total = A_1 + A_2\n",
    "\n",
    "The generated signal uses 5 different input spectra, some of which we pass here, and some of which are read in from saved data files.\n",
    "\n",
    "1) The background signal from CXRO from the water, C's, and N's. \n",
    "\n",
    "2) The Fe edge from CXRO.\n",
    "\n",
    "3) The FeCN6 full spectrum with the edge.  This I have extracted from J. Chem. Phys. 122, 084506 (2005); https://doi.org/10.1063/1.1852455\n",
    "\n",
    "4) Our own measurement of FeCN6 at APS.\n",
    "\n",
    "5) The calculated spectra.\n",
    "\n",
    "After loading in these spectra, the algorithm determines the scaling factors between them and the position of the B peaks.  The full FeCN6 edge is scaled to the Fe edge from CXRO, and then our APS FeCN6 spectra is scaled to the height of the new B peak.  Since this is our own data, I have opted to take the edge from this signal for the rest of the calculation.  The edge is then extracted from the appropriately scaled APS FeCN6 data by removing the peaks and interpolating the data.  The calculated spectra is then scaled so that the ground state APS and calculated peaks match in height and photon energy.  \n",
    "\n",
    "The unpumped signal is composed of just the ground state spectra + the background.  Of course this is not exact but we use the assumption above to simplify computation.  \n",
    "\n",
    "The pumped spectrum contains signal of interest.  The pumped spectra is the sum of 0.1 x excitation_rate x signal + (1-0.1 x excitation_rate)x(ground state) + (the background), with 0.1 corresponding to the amount of excited signal going to this state.   The signal is composed the same way as the ground state, with one difference, the edge is shifted by the energy difference between the signal's calculated B peak position and ground state's calculated B peak position.  This is meant to approximate how the ionization energy changes with the overall charge state.\n",
    "\n",
    "A spectrum with no signal is also calculated by creating the same exact pumped spectrum, while ignoring roots corresponding the A peak.  "
   ]
  },
  {
   "cell_type": "code",
   "execution_count": 8,
   "metadata": {},
   "outputs": [],
   "source": [
    "import numpy as np\n",
    "from expected_signal import create_signal\n",
    "spectra_energy, pumped, pumped_no_signal, unpumped = create_signal(bg_energy, bg_spectrum, Fe_energy, Fe_spectrum, excitation_rate)"
   ]
  },
  {
   "cell_type": "code",
   "execution_count": 9,
   "metadata": {},
   "outputs": [
    {
     "data": {
      "text/plain": [
       "(0.22025015244180288, 0.2790263462384548)"
      ]
     },
     "execution_count": 9,
     "metadata": {},
     "output_type": "execute_result"
    },
    {
     "data": {
      "image/png": "[encoded data removed]",
      "text/plain": [
       "<Figure size 432x288 with 1 Axes>"
      ]
     },
     "metadata": {
      "needs_background": "light"
     },
     "output_type": "display_data"
    }
   ],
   "source": [
    "def find_nearest_y(array, y_array, value):\n",
    "    array = np.asarray(array)\n",
    "    idx = (np.abs(array - value)).argmin()\n",
    "    return y_array[idx]\n",
    "\n",
    "plt.figure()\n",
    "plt.plot(spectra_energy, pumped)\n",
    "plt.plot(spectra_energy, unpumped)\n",
    "plt.xlim([7108, 7128])\n",
    "plt.ylim([find_nearest_y(spectra_energy, pumped, 7108)*.99, find_nearest_y(spectra_energy, pumped, 7126)])"
   ]
  },
  {
   "cell_type": "markdown",
   "metadata": {},
   "source": [
    "#### Note:\n",
    "The bandwidth here is slightly larger than the bandwidth of the pulses (18 eV vs 15 eV = 7108*1.002).\n",
    "It may be necessary to move the central energy of the pulse toward 7108 eV -> 7115.5 eV rather than 7117 eV."
   ]
  },
  {
   "cell_type": "code",
   "execution_count": 10,
   "metadata": {},
   "outputs": [
    {
     "data": {
      "text/plain": [
       "(-1.1677341799548602e-05, 5.982723556394177e-06)"
      ]
     },
     "execution_count": 10,
     "metadata": {},
     "output_type": "execute_result"
    },
    {
     "data": {
      "image/png": "[encoded data removed]",
      "text/plain": [
       "<Figure size 432x288 with 1 Axes>"
      ]
     },
     "metadata": {
      "needs_background": "light"
     },
     "output_type": "display_data"
    },
    {
     "data": {
      "image/png": "[encoded data removed]",
      "text/plain": [
       "<Figure size 432x288 with 1 Axes>"
      ]
     },
     "metadata": {
      "needs_background": "light"
     },
     "output_type": "display_data"
    }
   ],
   "source": [
    "A_bandwidth = 1.5\n",
    "min_eV = 7108\n",
    "max_eV = 7126\n",
    "\n",
    "plt.figure()\n",
    "plt.plot(spectra_energy, pumped-unpumped)\n",
    "plt.plot(spectra_energy, pumped_no_signal-unpumped)\n",
    "plt.xlim([min_eV, max_eV])\n",
    "plt.ylim([find_nearest_y(spectra_energy, pumped-unpumped, 7126), find_nearest_y(spectra_energy, pumped-unpumped, 7124.5)*1.1])\n",
    "\n",
    "diff = pumped-pumped_no_signal\n",
    "A_index = np.argmax(diff)\n",
    "num_pts = int(round(A_bandwidth/(spectra_energy[1]-spectra_energy[0])/2))\n",
    "\n",
    "plt.figure()\n",
    "plt.plot(spectra_energy, pumped-unpumped)\n",
    "plt.plot(spectra_energy, pumped_no_signal-unpumped)\n",
    "plt.plot([spectra_energy[A_index], spectra_energy[A_index]], [-10, 10], linewidth = 3, color = 'k')\n",
    "plt.plot([spectra_energy[A_index+num_pts], spectra_energy[A_index+num_pts]], [-10, 10], linewidth = 1, color = 'k')\n",
    "plt.plot([spectra_energy[A_index-num_pts], spectra_energy[A_index-num_pts]], [-10, 10], linewidth = 1, color = 'k')\n",
    "plt.grid(which = 'major')\n",
    "plt.xlim([min_eV, 7113])\n",
    "plt.ylim([find_nearest_y(spectra_energy, pumped-unpumped, 7112.5),find_nearest_y(spectra_energy, pumped-unpumped, 7110.5)*1.1])"
   ]
  },
  {
   "cell_type": "code",
   "execution_count": 11,
   "metadata": {},
   "outputs": [
    {
     "name": "stdout",
     "output_type": "stream",
     "text": [
      "amplitude size is: 9.021128474701046e-06\n",
      "mean amplitude over one bandwidth is: 8.318701530750372e-06\n"
     ]
    }
   ],
   "source": [
    "diff_A = diff[A_index]\n",
    "print('amplitude size is: {}'.format(diff_A))\n",
    "\n",
    "diff_mean = np.mean(diff[A_index-num_pts:A_index+num_pts])\n",
    "print('mean amplitude over one bandwidth is: {}'.format(diff_mean))"
   ]
  },
  {
   "cell_type": "markdown",
   "metadata": {},
   "source": [
    "### Pixel resolution"
   ]
  },
  {
   "cell_type": "markdown",
   "metadata": {},
   "source": [
    "We will need the downstream spectrometer pixel resolution in order to determine maximally how many photons contribute to the signal if we average over portions of the peak.  It is not necessary to know the upstream pixel resolution since a) fewer photons will hit it, so it does not determine the maximal photon flux and b) it should have similar characteristics to the the downstream one.  See Appl. Phys. Lett. 101, 034103 (2012); https://doi.org/10.1063/1.4736725 for more detail."
   ]
  },
  {
   "cell_type": "code",
   "execution_count": 12,
   "metadata": {},
   "outputs": [
    {
     "name": "stdout",
     "output_type": "stream",
     "text": [
      "The downstream pixel resolution is: 0.27 eV/pixel\n"
     ]
    }
   ],
   "source": [
    "from crystals import calc_div_pixel_resolution\n",
    "\n",
    "downstream_crystal_type = 311\n",
    "\n",
    "downstream_pixel_resolution = calc_div_pixel_resolution(downstream_crystal_type, min_eV, max_eV)\n",
    "print('The downstream pixel resolution is: {:.2f} eV/pixel'.format(downstream_pixel_resolution))"
   ]
  },
  {
   "cell_type": "markdown",
   "metadata": {},
   "source": [
    "### Derivation of uncertainty"
   ]
  },
  {
   "cell_type": "markdown",
   "metadata": {},
   "source": [
    "To determine the necessary averaging time, I need to calculate the uncertainty associated with the change in amplitude at the A peak.  \n",
    "\n",
    "Start with the definition of the measurement at the downstream detector (M(hv)):\n",
    "\n",
    "M(hv) = P(hv) x (1-A(hv))\n",
    "\n",
    "where P(hv) is the pulse spectrum (measured at the upstream detector), A(hv) is the absorption of the system, and hv is the photon energy.  \n",
    "\n",
    "dA/A = sqrt((dM/M)^2 + (dP/P)^2)\n",
    "\n",
    "Then assuming counting statistics and N photons in the x-ray probe pulse, with the proportion a going to the upstream spectrometer\n",
    "\n",
    "dM/M = 1/sqrt(N x (1-a))\n",
    "\n",
    "dP/P = 1/sqrt(N x a)\n",
    "\n",
    "dA/A = 1/sqrt(N x a x (1-a))\n",
    "\n",
    "dA = A/sqrt(N x a x (1-a))\n",
    "\n",
    "N = (A/dA)^2/(a*(1-a))"
   ]
  },
  {
   "cell_type": "markdown",
   "metadata": {},
   "source": [
    "### Calculation of averaging time"
   ]
  },
  {
   "cell_type": "code",
   "execution_count": 13,
   "metadata": {},
   "outputs": [
    {
     "name": "stdout",
     "output_type": "stream",
     "text": [
      "Assuming the maximum photons on the A region, the averaging time is: 0.25 hours\n",
      "Assuming 1/10 the maximum photons on the A region, the averaging time is: 2.51 hours\n"
     ]
    }
   ],
   "source": [
    "spectrometer_frac = 1/10\n",
    "abs_absorption = pumped[A_index]\n",
    "\n",
    "photon_pixel_max = 11000\n",
    "\n",
    "def calc_ave_time(spectrometer_frac, frac_of_max, abs_absorption, diff_absorption, A_bandwidth, downstream_pixel_resolution):\n",
    "\n",
    "    photons_over_bandwidth = photon_pixel_max * frac_of_max * round(A_bandwidth/downstream_pixel_resolution)\n",
    "    photons_over_bandwidth_total = photons_over_bandwidth/(1-spectrometer_frac)\n",
    "    required_photons = (abs_absorption/diff_absorption)**2/(spectrometer_frac*(1-spectrometer_frac))\n",
    "\n",
    "    ave_time = required_photons/photons_over_bandwidth_total/120/60 #minutes\n",
    "    \n",
    "    return (required_photons, ave_time)\n",
    "\n",
    "frac_of_max = 1\n",
    "required_photons, ave_time = calc_ave_time(spectrometer_frac, frac_of_max, abs_absorption, \\\n",
    "                                           diff_mean, A_bandwidth, downstream_pixel_resolution)\n",
    "\n",
    "print('Assuming the maximum photons on the A region, the averaging time is: {:.2f} hours'.format(ave_time/60))\n",
    "\n",
    "frac_of_max = 1/10\n",
    "required_photons, ave_time = calc_ave_time(spectrometer_frac, frac_of_max, abs_absorption, \\\n",
    "                                           diff_mean, A_bandwidth, downstream_pixel_resolution)\n",
    "\n",
    "print('Assuming 1/10 the maximum photons on the A region, the averaging time is: {:.2f} hours'.format(ave_time/60))\n"
   ]
  },
  {
   "cell_type": "markdown",
   "metadata": {},
   "source": [
    "Looking at the C peak, which is about 10 times that of the A peak.  Assume the same absoprtion as at the A peak and the same bandwidth for simplification."
   ]
  },
  {
   "cell_type": "code",
   "execution_count": 14,
   "metadata": {},
   "outputs": [
    {
     "name": "stdout",
     "output_type": "stream",
     "text": [
      "Assuming the maximum photons on the C region, the averaging time is: 0.15 minutes\n",
      "Assuming 1/10 the maximum photons on the C region, the averaging time is: 1.51 minutes\n"
     ]
    }
   ],
   "source": [
    "frac_of_max = 1\n",
    "required_photons, ave_time = calc_ave_time(spectrometer_frac, frac_of_max, abs_absorption, \\\n",
    "                                           diff_mean*10, A_bandwidth, downstream_pixel_resolution)\n",
    "\n",
    "print('Assuming the maximum photons on the C region, the averaging time is: {:.2f} minutes'.format(ave_time))\n",
    "\n",
    "frac_of_max = 1/10\n",
    "required_photons, ave_time = calc_ave_time(spectrometer_frac, frac_of_max, abs_absorption, \\\n",
    "                                           diff_mean*10, A_bandwidth, downstream_pixel_resolution)\n",
    "\n",
    "print('Assuming 1/10 the maximum photons on the C region, the averaging time is: {:.2f} minutes'.format(ave_time))"
   ]
  },
  {
   "cell_type": "markdown",
   "metadata": {},
   "source": [
    "### Calculation of the probe pulse characteristics given everything above"
   ]
  },
  {
   "cell_type": "markdown",
   "metadata": {},
   "source": [
    "We see that a 1/10 fraction of the maximum photons on each pixel is sufficient for a reasonable averaging time.  Therefore we work from this number to calculate total number of photons in each pulse and then the total pulse energy etc."
   ]
  },
  {
   "cell_type": "code",
   "execution_count": 15,
   "metadata": {},
   "outputs": [
    {
     "name": "stdout",
     "output_type": "stream",
     "text": [
      "The necessary pulse energy is: 0.093 nJ\n"
     ]
    }
   ],
   "source": [
    "photons_per_pixel = photon_pixel_max * frac_of_max\n",
    "n_pixels_over_range = (max_eV-min_eV)/downstream_pixel_resolution\n",
    "N_probe_photons = n_pixels_over_range*photons_per_pixel/(1-spectrometer_frac)\n",
    "probe_eV = (max_eV+min_eV)/2\n",
    "probe_energy = N_probe_photons*probe_eV*EV_TO_JOULES*1e9 #nJ\n",
    "\n",
    "print('The necessary pulse energy is: {:.3f} nJ'.format(probe_energy))"
   ]
  },
  {
   "cell_type": "markdown",
   "metadata": {},
   "source": [
    "The necessary photon energy for the second pulse is so low, that likely we will just take whatever photon energy is easiest to generate and use some filters to reduce the number of photons striking the detector."
   ]
  },
  {
   "cell_type": "markdown",
   "metadata": {},
   "source": [
    "## Calculation of the necessary sample"
   ]
  },
  {
   "cell_type": "markdown",
   "metadata": {},
   "source": [
    "We use the paper here to determine the flow rates and estimate the amount of sample required.\n",
    "https://journals.aps.org/prl/abstract/10.1103/PhysRevLett.93.034501"
   ]
  },
  {
   "cell_type": "code",
   "execution_count": 16,
   "metadata": {},
   "outputs": [
    {
     "name": "stdout",
     "output_type": "stream",
     "text": [
      "We will need at least 2.0 liters of solution and 57 grams of solute for four shifts\n"
     ]
    }
   ],
   "source": [
    "WATER_VISCOSITY = 8.90e-4 # Pa*s N*s/m^2 @ 25C Note @ 20C 1.0016E-3, @ 30C 7.9722E-4\n",
    "SURFACE_TENSION = 0.07197 # N/m @ 25 C\n",
    "WATER_DENSITY = 997.0 # kg/m^3 @ 25 C\n",
    "WE_J = 0.8 # Weber number for jetting > 0.8\n",
    "TUBE_RADIUS = 125e-6 / 2.0 # m\n",
    "loss_rate = 1\n",
    "\n",
    "jet_flow = math.sqrt((WE_J * (math.pi**2) * (TUBE_RADIUS**3) * SURFACE_TENSION) / WATER_DENSITY) *1e6*60 # mL/minute\n",
    "nec_volume = jet_flow * loss_rate *60*12*4*1e-3 # L\n",
    "nec_mass = molar_con * nec_volume * Fe_AW / 1000 # g\n",
    "\n",
    "print('We will need at least {:.1F} liters of solution and {:.0F} grams of solute for four shifts'.format(nec_volume, nec_mass))"
   ]
  },
  {
   "cell_type": "markdown",
   "metadata": {},
   "source": [
    "## Summary of chosen and determined values"
   ]
  },
  {
   "cell_type": "code",
   "execution_count": 17,
   "metadata": {},
   "outputs": [
    {
     "name": "stdout",
     "output_type": "stream",
     "text": [
      "molar concentration: 500 mM\n",
      "volume of solution: 2.0 L\n",
      "mass of solute: 57 g\n",
      "jet thickness: 100 microns\n",
      "pump photon energy: 7188 eV\n",
      "pump pulse energy: 0.40 uJ\n",
      "probe photon energy: 7117.0 eV\n",
      "probe pulse energy: 0.093 nJ\n",
      "pulse durations: 10 fs\n",
      "spot diameter: 120 nm\n",
      "crystal type: 311\n"
     ]
    }
   ],
   "source": [
    "print('molar concentration: {} mM'.format(molar_con))\n",
    "print('jet thickness: {} microns'.format(jet_thickness))\n",
    "print('volume of solution: {:.1f} L'.format(nec_volume))\n",
    "print('mass of solute: {:.0f} g'.format(nec_mass))\n",
    "print('pump photon energy: {} eV'.format(pump_eV))\n",
    "print('pump pulse energy: {:.2f} uJ'.format(pump_energy))\n",
    "print('probe photon energy: {} eV'.format((max_eV+min_eV)/2))\n",
    "print('probe pulse energy: {:.3f} nJ'.format(probe_energy))\n",
    "print('pulse durations: {} fs'.format(pulse_duration))\n",
    "print('spot diameter: {} nm'.format(spot_diameter))\n",
    "print('crystal type: {}'.format(downstream_crystal_type))\n"
   ]
  },
  {
   "cell_type": "code",
   "execution_count": null,
   "metadata": {},
   "outputs": [],
   "source": []
  }
 ],
 "metadata": {
  "kernelspec": {
   "display_name": "Python 3",
   "language": "python",
   "name": "python3"
  },
  "language_info": {
   "codemirror_mode": {
    "name": "ipython",
    "version": 3
   },
   "file_extension": ".py",
   "mimetype": "text/x-python",
   "name": "python",
   "nbconvert_exporter": "python",
   "pygments_lexer": "ipython3",
   "version": "3.7.3"
  }
 },
 "nbformat": 4,
 "nbformat_minor": 2
}
