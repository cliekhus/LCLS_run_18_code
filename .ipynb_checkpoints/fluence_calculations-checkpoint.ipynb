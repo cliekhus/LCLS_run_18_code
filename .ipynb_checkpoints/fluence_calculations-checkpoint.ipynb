{
 "cells": [
  {
   "cell_type": "markdown",
   "metadata": {},
   "source": [
    "The purpose of this code is to determine the necessary fluence of our x-rays, molarity of our sample, and thickness of our jet.\n",
    "We have the following constraints:\n",
    "The first pulse should excite 10% of the molecules.  The second pulse should have high enough fluence and the molarity should be high enough with small enough thickness to get sufficient signal to noise."
   ]
  },
  {
   "cell_type": "markdown",
   "metadata": {},
   "source": [
    "We start by using some known constants:"
   ]
  },
  {
   "cell_type": "code",
   "execution_count": 1,
   "metadata": {},
   "outputs": [],
   "source": [
    "FE_ABS_CS_1 = 398.3 # cm^2/g\n",
    "FE_ABS_CS_2 = 51.08 # cm^2/g 408.1 at edge\n",
    "FE_AW = 55.845 # g/mol\n",
    "NA = 6.022e23 # mol^-1\n",
    "EV_TO_JOULES = 1.6e-19"
   ]
  },
  {
   "cell_type": "markdown",
   "metadata": {},
   "source": [
    "Flow constants:"
   ]
  },
  {
   "cell_type": "code",
   "execution_count": 2,
   "metadata": {},
   "outputs": [],
   "source": [
    "WATER_VISCOSITY = 8.90e-4 # Pa*s N*s/m^2 @ 25C Note @ 20C 1.0016E-3, @ 30C 7.9722E-4\n",
    "SURFACE_TENSION = 0.07197 # N/m @ 25 C\n",
    "WATER_DENSITY = 997.0 # kg/m^3 @ 25 C\n",
    "WE_J = 0.8 # Weber number for jetting > 0.8"
   ]
  },
  {
   "cell_type": "markdown",
   "metadata": {},
   "source": [
    "Some constants from the experiment:"
   ]
  },
  {
   "cell_type": "code",
   "execution_count": 3,
   "metadata": {},
   "outputs": [],
   "source": [
    "SPOT_DIAMETER = 120 # nm\n",
    "PHOTON_1 = 7186 # eV\n",
    "PHOTON_2 = 7110 # eV\n",
    "E_BW = 15 # eV\n",
    "E_RES = 0.2 # eV\n",
    "PULSE_DURATION = 10 # fs\n",
    "TUBE_RADIUS = 1.27e-4 / 2.0 # m"
   ]
  },
  {
   "cell_type": "markdown",
   "metadata": {},
   "source": [
    "Some parameters to control:"
   ]
  },
  {
   "cell_type": "code",
   "execution_count": 4,
   "metadata": {},
   "outputs": [],
   "source": [
    "jet_thickness = 50 # um\n",
    "molar_con = 4 # mM (mol/m^3) (mmol/L)\n",
    "pulse_energy_1 = 0.4 # uJ\n",
    "pulse_energy_2 = 0.1 # uJ\n",
    "loss_rate = 1"
   ]
  },
  {
   "cell_type": "markdown",
   "metadata": {},
   "source": [
    "Now start doing some calculations:"
   ]
  },
  {
   "cell_type": "code",
   "execution_count": 5,
   "metadata": {},
   "outputs": [],
   "source": [
    "import math\n",
    "focal_area = math.pi * (SPOT_DIAMETER*1e-7 / 2)**2 # cm^2\n",
    "focal_volume = jet_thickness*1e-4 * focal_area # cm^3\n",
    "\n",
    "n_iron = NA * molar_con * focal_volume*1e-6\n",
    "mass_iron = FE_AW / NA # g\n",
    "\n",
    "n_photons_1 = pulse_energy_1*1e-6 / EV_TO_JOULES / PHOTON_1\n",
    "n_photons_2 = pulse_energy_2*1e-6 / EV_TO_JOULES / PHOTON_2"
   ]
  },
  {
   "cell_type": "markdown",
   "metadata": {},
   "source": [
    "Find the probability that an iron atom absorbs a photon from the first pulse:"
   ]
  },
  {
   "cell_type": "code",
   "execution_count": 6,
   "metadata": {},
   "outputs": [
    {
     "name": "stdout",
     "output_type": "stream",
     "text": [
      "The absorption rate of the first pulse is 11.36%\n"
     ]
    }
   ],
   "source": [
    "abs_rate_1 = n_photons_1 * (FE_ABS_CS_1 * mass_iron) / focal_area\n",
    "print('The absorption rate of the first pulse is {:.2f}%'.format(abs_rate_1*100))"
   ]
  },
  {
   "cell_type": "markdown",
   "metadata": {},
   "source": [
    "Now find the number of photons absorbed in the second pulse"
   ]
  },
  {
   "cell_type": "code",
   "execution_count": 7,
   "metadata": {},
   "outputs": [
    {
     "name": "stdout",
     "output_type": "stream",
     "text": [
      "The number of photons absorbed in the second pulse is 5.0E+03\n",
      "Which is 6.7E+01 photons per energy bin\n"
     ]
    }
   ],
   "source": [
    "abs_rate_2 = (n_photons_2 * FE_ABS_CS_2 * mass_iron) / focal_area\n",
    "n_photons_abs = abs_rate_2 * n_iron\n",
    "n_photons_abs_bin = n_photons_abs / (E_BW / E_RES)\n",
    "print('The number of photons absorbed in the second pulse is {:.1E}'.format(n_photons_abs))\n",
    "print('Which is {:.1E} photons per energy bin'.format(n_photons_abs_bin))"
   ]
  },
  {
   "cell_type": "markdown",
   "metadata": {},
   "source": [
    "In each energy bin, we expect to see changes of about 10% at our signals.\n",
    "Let's err on the side of caution and expect a change of 1% out of the excitation rate of our molecules.\n",
    "Compare this to the necessary number of photons in each bin to see this change in the signal."
   ]
  },
  {
   "cell_type": "code",
   "execution_count": 8,
   "metadata": {},
   "outputs": [
    {
     "name": "stdout",
     "output_type": "stream",
     "text": [
      "We will need at least 7.7E+05 photons to be absorbed in the second pulse per energy bin\n",
      "We will need to average for 1.6 minutes\n",
      "We will use a fluence of 3.5E+08 W/cm^2 for the first pulse and 8.8E+07 W/cm^2 for the second pulse\n"
     ]
    }
   ],
   "source": [
    "nec_n_photons_bin = 1 / (abs_rate_1 * 0.01)**2\n",
    "print('We will need at least {:.1E} photons to be absorbed in the second pulse per energy bin'.format(nec_n_photons_bin))\n",
    "averaging_time = nec_n_photons_bin / n_photons_abs_bin / 120/60 # minutes\n",
    "print('We will need to average for {:.1F} minutes'.format(averaging_time))\n",
    "fluence_1 = pulse_energy_1 / focal_area / PULSE_DURATION # W/cm^2\n",
    "fluence_2 = pulse_energy_2 / focal_area / PULSE_DURATION # W/cm^2\n",
    "print('We will use a fluence of {:.1E} W/cm^2 for the first pulse and {:.1E} W/cm^2 for the second pulse'.format(fluence_1, fluence_2))"
   ]
  },
  {
   "cell_type": "markdown",
   "metadata": {},
   "source": [
    "Calculate the flow and necessary volume."
   ]
  },
  {
   "cell_type": "code",
   "execution_count": 9,
   "metadata": {},
   "outputs": [
    {
     "name": "stdout",
     "output_type": "stream",
     "text": [
      "We will need at least 0.6 liters of solution and 140 milligrams of solute for four shifts\n"
     ]
    }
   ],
   "source": [
    "jet_flow = math.sqrt((WE_J * (math.pi**2) * (TUBE_RADIUS**3) * SURFACE_TENSION) / WATER_DENSITY) *1e6*60 # mL/minute\n",
    "nec_volume = jet_flow * loss_rate *60*12*4*1e-3 # L\n",
    "nec_mass = molar_con * nec_volume * FE_AW # mg\n",
    "print('We will need at least {:.1F} liters of solution and {:.0F} milligrams of solute for four shifts'.format(nec_volume, nec_mass))"
   ]
  },
  {
   "cell_type": "code",
   "execution_count": null,
   "metadata": {},
   "outputs": [],
   "source": []
  },
  {
   "cell_type": "code",
   "execution_count": null,
   "metadata": {},
   "outputs": [],
   "source": []
  }
 ],
 "metadata": {
  "kernelspec": {
   "display_name": "Python 3",
   "language": "python",
   "name": "python3"
  },
  "language_info": {
   "codemirror_mode": {
    "name": "ipython",
    "version": 3
   },
   "file_extension": ".py",
   "mimetype": "text/x-python",
   "name": "python",
   "nbconvert_exporter": "python",
   "pygments_lexer": "ipython3",
   "version": "3.7.3"
  }
 },
 "nbformat": 4,
 "nbformat_minor": 2
}
