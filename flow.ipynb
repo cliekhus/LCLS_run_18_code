{
 "cells": [
  {
   "cell_type": "code",
   "execution_count": 1,
   "metadata": {},
   "outputs": [],
   "source": [
    "# Calculatin based on PRL 93, 034501\n",
    "# Note using MKS units\n",
    "\n",
    "import numpy as np\n",
    "\n",
    "#Water\n",
    "mu = 8.90E-4 #viscosity of water Pa*s or N*s/m^2 @ 25C Note @ 20C 1.0016E-3, @ 30C 7.9722E-4\n",
    "sigma = 0.07197 #surface tension of water N/m @ 25C\n",
    "rho = 997.0 #density of water @ 25C kg/m^3\n",
    "\n",
    "#flow\n",
    "We_j = 0.8 # Weber number for jetting > 0.8 \n",
    "\n",
    "#tube\n",
    "R = 1.27E-4 / 2.0 #tube radius in m Note: smallest PEEK tube we have has an ID of 0.005\"\n",
    "\n",
    "#jetting flow in m^3/s\n",
    "Q = np.sqrt((We_j*(np.pi**2)*(R**3)*sigma)/rho)"
   ]
  },
  {
   "cell_type": "code",
   "execution_count": 2,
   "metadata": {},
   "outputs": [],
   "source": [
    "flow = Q*1E6*60 #mL/minute"
   ]
  },
  {
   "cell_type": "code",
   "execution_count": 3,
   "metadata": {},
   "outputs": [
    {
     "data": {
      "text/plain": [
       "0.72482785809395422"
      ]
     },
     "execution_count": 3,
     "metadata": {},
     "output_type": "execute_result"
    }
   ],
   "source": [
    "flow"
   ]
  },
  {
   "cell_type": "code",
   "execution_count": 4,
   "metadata": {},
   "outputs": [
    {
     "data": {
      "text/plain": [
       "626.25126939317647"
      ]
     },
     "execution_count": 4,
     "metadata": {},
     "output_type": "execute_result"
    }
   ],
   "source": [
    "#estimated loss rate (e.g. fraction not recirculating)\n",
    "LR = 0.3\n",
    "\n",
    "#minimum sample volume needed for a 4 day experiment in mL\n",
    "flow*LR*60*12*4"
   ]
  },
  {
   "cell_type": "code",
   "execution_count": null,
   "metadata": {},
   "outputs": [],
   "source": []
  }
 ],
 "metadata": {
  "kernelspec": {
   "display_name": "Python 3",
   "language": "python",
   "name": "python3"
  },
  "language_info": {
   "codemirror_mode": {
    "name": "ipython",
    "version": 3
   },
   "file_extension": ".py",
   "mimetype": "text/x-python",
   "name": "python",
   "nbconvert_exporter": "python",
   "pygments_lexer": "ipython3",
   "version": "3.7.3"
  }
 },
 "nbformat": 4,
 "nbformat_minor": 2
}
